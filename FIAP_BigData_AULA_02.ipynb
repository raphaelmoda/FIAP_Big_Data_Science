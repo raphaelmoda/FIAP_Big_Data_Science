{
  "nbformat": 4,
  "nbformat_minor": 0,
  "metadata": {
    "colab": {
      "provenance": [],
      "authorship_tag": "ABX9TyOXzbe165ZC7NZ2WBjb3mwU",
      "include_colab_link": true
    },
    "kernelspec": {
      "name": "python3",
      "display_name": "Python 3"
    },
    "language_info": {
      "name": "python"
    }
  },
  "cells": [
    {
      "cell_type": "markdown",
      "metadata": {
        "id": "view-in-github",
        "colab_type": "text"
      },
      "source": [
        "<a href=\"https://colab.research.google.com/github/raphaelmoda/FIAP_Big_Data_Science/blob/main/FIAP_BigData_AULA_02.ipynb\" target=\"_parent\"><img src=\"https://colab.research.google.com/assets/colab-badge.svg\" alt=\"Open In Colab\"/></a>"
      ]
    },
    {
      "cell_type": "code",
      "execution_count": 3,
      "metadata": {
        "id": "GKS6OimrSp17"
      },
      "outputs": [],
      "source": [
        "# Carga da biblioteca pandas para manipular conjunto de dados\n",
        "import pandas as pd\n",
        "##Dataframe (tabela) com dados de diamantes\n",
        "df = pd.read_csv(\"https://raw.githubusercontent.com/diogenesjusto/FIAP/master/Gradua%C3%A7%C3%A3o/dados/diamonds.csv\")"
      ]
    },
    {
      "cell_type": "code",
      "source": [
        "#Visualizar dataframe\n",
        "df.head #Primeiras 5 linhas\n"
      ],
      "metadata": {
        "colab": {
          "base_uri": "https://localhost:8080/"
        },
        "id": "Bud90gDXXIQq",
        "outputId": "d4aa79ac-c5c5-4147-f8ac-02084af8f9c6"
      },
      "execution_count": 5,
      "outputs": [
        {
          "output_type": "execute_result",
          "data": {
            "text/plain": [
              "<bound method NDFrame.head of        Unnamed: 0  carat        cut color clarity  depth  table  price     x  \\\n",
              "0               1   0.23      Ideal     E     SI2   61.5   55.0    326  3.95   \n",
              "1               2   0.21    Premium     E     SI1   59.8   61.0    326  3.89   \n",
              "2               3   0.23       Good     E     VS1   56.9   65.0    327  4.05   \n",
              "3               4   0.29    Premium     I     VS2   62.4   58.0    334  4.20   \n",
              "4               5   0.31       Good     J     SI2   63.3   58.0    335  4.34   \n",
              "...           ...    ...        ...   ...     ...    ...    ...    ...   ...   \n",
              "53935       53936   0.72      Ideal     D     SI1   60.8   57.0   2757  5.75   \n",
              "53936       53937   0.72       Good     D     SI1   63.1   55.0   2757  5.69   \n",
              "53937       53938   0.70  Very Good     D     SI1   62.8   60.0   2757  5.66   \n",
              "53938       53939   0.86    Premium     H     SI2   61.0   58.0   2757  6.15   \n",
              "53939       53940   0.75      Ideal     D     SI2   62.2   55.0   2757  5.83   \n",
              "\n",
              "          y     z  \n",
              "0      3.98  2.43  \n",
              "1      3.84  2.31  \n",
              "2      4.07  2.31  \n",
              "3      4.23  2.63  \n",
              "4      4.35  2.75  \n",
              "...     ...   ...  \n",
              "53935  5.76  3.50  \n",
              "53936  5.75  3.61  \n",
              "53937  5.68  3.56  \n",
              "53938  6.12  3.74  \n",
              "53939  5.87  3.64  \n",
              "\n",
              "[53940 rows x 11 columns]>"
            ]
          },
          "metadata": {},
          "execution_count": 5
        }
      ]
    },
    {
      "cell_type": "code",
      "source": [
        "#Estatísticas descritivas\n",
        "\n",
        "#Média aritmética\n",
        "df[[\"price\"]].mean()"
      ],
      "metadata": {
        "colab": {
          "base_uri": "https://localhost:8080/"
        },
        "id": "C994opTsYA2o",
        "outputId": "54184f8a-b618-4b05-c02e-865c849f11ae"
      },
      "execution_count": 13,
      "outputs": [
        {
          "output_type": "execute_result",
          "data": {
            "text/plain": [
              "price    3932.799722\n",
              "dtype: float64"
            ]
          },
          "metadata": {},
          "execution_count": 13
        }
      ]
    },
    {
      "cell_type": "code",
      "source": [
        "#Mediana\n",
        "df[[\"price\"]].median()"
      ],
      "metadata": {
        "colab": {
          "base_uri": "https://localhost:8080/"
        },
        "id": "L7GoedSAY0AZ",
        "outputId": "66e6a2c0-04b4-467f-aafc-cb7bbe0033cd"
      },
      "execution_count": 12,
      "outputs": [
        {
          "output_type": "execute_result",
          "data": {
            "text/plain": [
              "price    2401.0\n",
              "dtype: float64"
            ]
          },
          "metadata": {},
          "execution_count": 12
        }
      ]
    },
    {
      "cell_type": "code",
      "source": [
        "#Desvio padrão\n",
        "df[[\"price\"]].std()"
      ],
      "metadata": {
        "colab": {
          "base_uri": "https://localhost:8080/"
        },
        "id": "fvWpXpyXZJGG",
        "outputId": "c30f1afa-61ab-4a1b-d689-bac61c60a8c6"
      },
      "execution_count": 14,
      "outputs": [
        {
          "output_type": "execute_result",
          "data": {
            "text/plain": [
              "price    3989.439738\n",
              "dtype: float64"
            ]
          },
          "metadata": {},
          "execution_count": 14
        }
      ]
    },
    {
      "cell_type": "code",
      "source": [
        "# Geração de amostras\n",
        "#Queremos uma amostra de 3000 linhas\n",
        "a1 = df.iloc[0:2999, :]\n",
        "a1.shape #tamanho da matriz"
      ],
      "metadata": {
        "colab": {
          "base_uri": "https://localhost:8080/"
        },
        "id": "Dc3tW45OaJhW",
        "outputId": "5e24d3af-04b0-4d64-ba64-c87656e4f156"
      },
      "execution_count": 16,
      "outputs": [
        {
          "output_type": "execute_result",
          "data": {
            "text/plain": [
              "(2999, 11)"
            ]
          },
          "metadata": {},
          "execution_count": 16
        }
      ]
    },
    {
      "cell_type": "code",
      "source": [
        "a1[[\"price\"]].mean()"
      ],
      "metadata": {
        "colab": {
          "base_uri": "https://localhost:8080/"
        },
        "id": "SZrBlE2Za4eQ",
        "outputId": "238418cf-ced3-427e-da9d-7104cdd4afb9"
      },
      "execution_count": 17,
      "outputs": [
        {
          "output_type": "execute_result",
          "data": {
            "text/plain": [
              "price    2738.932978\n",
              "dtype: float64"
            ]
          },
          "metadata": {},
          "execution_count": 17
        }
      ]
    },
    {
      "cell_type": "code",
      "source": [
        "a1[[\"price\"]].median()"
      ],
      "metadata": {
        "colab": {
          "base_uri": "https://localhost:8080/"
        },
        "id": "iw2DaFEwbLNj",
        "outputId": "07835222-2e12-47c8-de18-d3096a031493"
      },
      "execution_count": 18,
      "outputs": [
        {
          "output_type": "execute_result",
          "data": {
            "text/plain": [
              "price    2963.0\n",
              "dtype: float64"
            ]
          },
          "metadata": {},
          "execution_count": 18
        }
      ]
    },
    {
      "cell_type": "code",
      "source": [
        "a1[[\"price\"]].std()"
      ],
      "metadata": {
        "colab": {
          "base_uri": "https://localhost:8080/"
        },
        "id": "z04TGgBBbRba",
        "outputId": "ff2fcff7-3f34-4b17-d1d9-3f008dd47df3"
      },
      "execution_count": 19,
      "outputs": [
        {
          "output_type": "execute_result",
          "data": {
            "text/plain": [
              "price    793.63371\n",
              "dtype: float64"
            ]
          },
          "metadata": {},
          "execution_count": 19
        }
      ]
    },
    {
      "cell_type": "markdown",
      "source": [
        "Conclusão: amostra a1 tem estatísticas descritivas bem diferentes da população, portanto rejeitamos para descrever ou fazer inferências"
      ],
      "metadata": {
        "id": "7AVwhcflbvLB"
      }
    },
    {
      "cell_type": "code",
      "source": [
        "a2 = df.iloc[3000:5999, :]"
      ],
      "metadata": {
        "id": "IcaFWPnIb8VH"
      },
      "execution_count": 22,
      "outputs": []
    },
    {
      "cell_type": "code",
      "source": [
        "a2[[\"price\"]].mean()"
      ],
      "metadata": {
        "colab": {
          "base_uri": "https://localhost:8080/"
        },
        "id": "Kkv6gURRcBa3",
        "outputId": "309143e0-535a-403d-ab94-ca163d75c67e"
      },
      "execution_count": 23,
      "outputs": [
        {
          "output_type": "execute_result",
          "data": {
            "text/plain": [
              "price    3324.236746\n",
              "dtype: float64"
            ]
          },
          "metadata": {},
          "execution_count": 23
        }
      ]
    },
    {
      "cell_type": "code",
      "source": [
        "a2[[\"price\"]].median()"
      ],
      "metadata": {
        "colab": {
          "base_uri": "https://localhost:8080/"
        },
        "id": "-WJqI2ENcVHj",
        "outputId": "c1d69c8b-40ed-46c5-82b2-c718b2f3a3cd"
      },
      "execution_count": 24,
      "outputs": [
        {
          "output_type": "execute_result",
          "data": {
            "text/plain": [
              "price    3601.0\n",
              "dtype: float64"
            ]
          },
          "metadata": {},
          "execution_count": 24
        }
      ]
    },
    {
      "cell_type": "code",
      "source": [
        "a2[\"price\"].std()"
      ],
      "metadata": {
        "colab": {
          "base_uri": "https://localhost:8080/"
        },
        "id": "KliLxapacvcf",
        "outputId": "5e76c4a2-4a70-4498-f204-515b2436cead"
      },
      "execution_count": 25,
      "outputs": [
        {
          "output_type": "execute_result",
          "data": {
            "text/plain": [
              "941.0001467344813"
            ]
          },
          "metadata": {},
          "execution_count": 25
        }
      ]
    },
    {
      "cell_type": "markdown",
      "source": [
        "Conclusão: a2 também tem estatísticas diferentes. Tentaremos com amostra aleatória"
      ],
      "metadata": {
        "id": "7KSrd4gxcz-f"
      }
    },
    {
      "cell_type": "code",
      "source": [
        "#Geração de amostra aleatória\n",
        "a3=df.sample(3000, random_state = 2) #random_state fixa sempre a mesma amostra aleatória, sem ele vem sempre aleatório\n",
        "a3.head()"
      ],
      "metadata": {
        "colab": {
          "base_uri": "https://localhost:8080/",
          "height": 206
        },
        "id": "6xaiE6uGc5eB",
        "outputId": "21ec9fbb-33fc-45b8-f2e4-436b483a1f58"
      },
      "execution_count": 27,
      "outputs": [
        {
          "output_type": "execute_result",
          "data": {
            "text/plain": [
              "       Unnamed: 0  carat        cut color clarity  depth  table  price     x  \\\n",
              "30960       30961   0.40  Very Good     H     VS2   62.1   56.0    746  4.72   \n",
              "50149       50150   0.71       Good     E     SI2   57.8   60.0   2215  5.86   \n",
              "28326       28327   0.33    Premium     G     VS1   61.9   58.0    666  4.43   \n",
              "22444       22445   1.70    Premium     G     SI2   61.9   58.0  10472  7.61   \n",
              "2449         2450   0.77      Ideal     E     SI1   61.6   57.0   3189  5.87   \n",
              "\n",
              "          y     z  \n",
              "30960  4.75  2.94  \n",
              "50149  5.83  3.38  \n",
              "28326  4.46  2.75  \n",
              "22444  7.57  4.70  \n",
              "2449   5.91  3.63  "
            ],
            "text/html": [
              "\n",
              "  <div id=\"df-9f389ca6-8b9a-43c5-afa1-6bf8c015eb3c\">\n",
              "    <div class=\"colab-df-container\">\n",
              "      <div>\n",
              "<style scoped>\n",
              "    .dataframe tbody tr th:only-of-type {\n",
              "        vertical-align: middle;\n",
              "    }\n",
              "\n",
              "    .dataframe tbody tr th {\n",
              "        vertical-align: top;\n",
              "    }\n",
              "\n",
              "    .dataframe thead th {\n",
              "        text-align: right;\n",
              "    }\n",
              "</style>\n",
              "<table border=\"1\" class=\"dataframe\">\n",
              "  <thead>\n",
              "    <tr style=\"text-align: right;\">\n",
              "      <th></th>\n",
              "      <th>Unnamed: 0</th>\n",
              "      <th>carat</th>\n",
              "      <th>cut</th>\n",
              "      <th>color</th>\n",
              "      <th>clarity</th>\n",
              "      <th>depth</th>\n",
              "      <th>table</th>\n",
              "      <th>price</th>\n",
              "      <th>x</th>\n",
              "      <th>y</th>\n",
              "      <th>z</th>\n",
              "    </tr>\n",
              "  </thead>\n",
              "  <tbody>\n",
              "    <tr>\n",
              "      <th>30960</th>\n",
              "      <td>30961</td>\n",
              "      <td>0.40</td>\n",
              "      <td>Very Good</td>\n",
              "      <td>H</td>\n",
              "      <td>VS2</td>\n",
              "      <td>62.1</td>\n",
              "      <td>56.0</td>\n",
              "      <td>746</td>\n",
              "      <td>4.72</td>\n",
              "      <td>4.75</td>\n",
              "      <td>2.94</td>\n",
              "    </tr>\n",
              "    <tr>\n",
              "      <th>50149</th>\n",
              "      <td>50150</td>\n",
              "      <td>0.71</td>\n",
              "      <td>Good</td>\n",
              "      <td>E</td>\n",
              "      <td>SI2</td>\n",
              "      <td>57.8</td>\n",
              "      <td>60.0</td>\n",
              "      <td>2215</td>\n",
              "      <td>5.86</td>\n",
              "      <td>5.83</td>\n",
              "      <td>3.38</td>\n",
              "    </tr>\n",
              "    <tr>\n",
              "      <th>28326</th>\n",
              "      <td>28327</td>\n",
              "      <td>0.33</td>\n",
              "      <td>Premium</td>\n",
              "      <td>G</td>\n",
              "      <td>VS1</td>\n",
              "      <td>61.9</td>\n",
              "      <td>58.0</td>\n",
              "      <td>666</td>\n",
              "      <td>4.43</td>\n",
              "      <td>4.46</td>\n",
              "      <td>2.75</td>\n",
              "    </tr>\n",
              "    <tr>\n",
              "      <th>22444</th>\n",
              "      <td>22445</td>\n",
              "      <td>1.70</td>\n",
              "      <td>Premium</td>\n",
              "      <td>G</td>\n",
              "      <td>SI2</td>\n",
              "      <td>61.9</td>\n",
              "      <td>58.0</td>\n",
              "      <td>10472</td>\n",
              "      <td>7.61</td>\n",
              "      <td>7.57</td>\n",
              "      <td>4.70</td>\n",
              "    </tr>\n",
              "    <tr>\n",
              "      <th>2449</th>\n",
              "      <td>2450</td>\n",
              "      <td>0.77</td>\n",
              "      <td>Ideal</td>\n",
              "      <td>E</td>\n",
              "      <td>SI1</td>\n",
              "      <td>61.6</td>\n",
              "      <td>57.0</td>\n",
              "      <td>3189</td>\n",
              "      <td>5.87</td>\n",
              "      <td>5.91</td>\n",
              "      <td>3.63</td>\n",
              "    </tr>\n",
              "  </tbody>\n",
              "</table>\n",
              "</div>\n",
              "      <button class=\"colab-df-convert\" onclick=\"convertToInteractive('df-9f389ca6-8b9a-43c5-afa1-6bf8c015eb3c')\"\n",
              "              title=\"Convert this dataframe to an interactive table.\"\n",
              "              style=\"display:none;\">\n",
              "        \n",
              "  <svg xmlns=\"http://www.w3.org/2000/svg\" height=\"24px\"viewBox=\"0 0 24 24\"\n",
              "       width=\"24px\">\n",
              "    <path d=\"M0 0h24v24H0V0z\" fill=\"none\"/>\n",
              "    <path d=\"M18.56 5.44l.94 2.06.94-2.06 2.06-.94-2.06-.94-.94-2.06-.94 2.06-2.06.94zm-11 1L8.5 8.5l.94-2.06 2.06-.94-2.06-.94L8.5 2.5l-.94 2.06-2.06.94zm10 10l.94 2.06.94-2.06 2.06-.94-2.06-.94-.94-2.06-.94 2.06-2.06.94z\"/><path d=\"M17.41 7.96l-1.37-1.37c-.4-.4-.92-.59-1.43-.59-.52 0-1.04.2-1.43.59L10.3 9.45l-7.72 7.72c-.78.78-.78 2.05 0 2.83L4 21.41c.39.39.9.59 1.41.59.51 0 1.02-.2 1.41-.59l7.78-7.78 2.81-2.81c.8-.78.8-2.07 0-2.86zM5.41 20L4 18.59l7.72-7.72 1.47 1.35L5.41 20z\"/>\n",
              "  </svg>\n",
              "      </button>\n",
              "      \n",
              "  <style>\n",
              "    .colab-df-container {\n",
              "      display:flex;\n",
              "      flex-wrap:wrap;\n",
              "      gap: 12px;\n",
              "    }\n",
              "\n",
              "    .colab-df-convert {\n",
              "      background-color: #E8F0FE;\n",
              "      border: none;\n",
              "      border-radius: 50%;\n",
              "      cursor: pointer;\n",
              "      display: none;\n",
              "      fill: #1967D2;\n",
              "      height: 32px;\n",
              "      padding: 0 0 0 0;\n",
              "      width: 32px;\n",
              "    }\n",
              "\n",
              "    .colab-df-convert:hover {\n",
              "      background-color: #E2EBFA;\n",
              "      box-shadow: 0px 1px 2px rgba(60, 64, 67, 0.3), 0px 1px 3px 1px rgba(60, 64, 67, 0.15);\n",
              "      fill: #174EA6;\n",
              "    }\n",
              "\n",
              "    [theme=dark] .colab-df-convert {\n",
              "      background-color: #3B4455;\n",
              "      fill: #D2E3FC;\n",
              "    }\n",
              "\n",
              "    [theme=dark] .colab-df-convert:hover {\n",
              "      background-color: #434B5C;\n",
              "      box-shadow: 0px 1px 3px 1px rgba(0, 0, 0, 0.15);\n",
              "      filter: drop-shadow(0px 1px 2px rgba(0, 0, 0, 0.3));\n",
              "      fill: #FFFFFF;\n",
              "    }\n",
              "  </style>\n",
              "\n",
              "      <script>\n",
              "        const buttonEl =\n",
              "          document.querySelector('#df-9f389ca6-8b9a-43c5-afa1-6bf8c015eb3c button.colab-df-convert');\n",
              "        buttonEl.style.display =\n",
              "          google.colab.kernel.accessAllowed ? 'block' : 'none';\n",
              "\n",
              "        async function convertToInteractive(key) {\n",
              "          const element = document.querySelector('#df-9f389ca6-8b9a-43c5-afa1-6bf8c015eb3c');\n",
              "          const dataTable =\n",
              "            await google.colab.kernel.invokeFunction('convertToInteractive',\n",
              "                                                     [key], {});\n",
              "          if (!dataTable) return;\n",
              "\n",
              "          const docLinkHtml = 'Like what you see? Visit the ' +\n",
              "            '<a target=\"_blank\" href=https://colab.research.google.com/notebooks/data_table.ipynb>data table notebook</a>'\n",
              "            + ' to learn more about interactive tables.';\n",
              "          element.innerHTML = '';\n",
              "          dataTable['output_type'] = 'display_data';\n",
              "          await google.colab.output.renderOutput(dataTable, element);\n",
              "          const docLink = document.createElement('div');\n",
              "          docLink.innerHTML = docLinkHtml;\n",
              "          element.appendChild(docLink);\n",
              "        }\n",
              "      </script>\n",
              "    </div>\n",
              "  </div>\n",
              "  "
            ]
          },
          "metadata": {},
          "execution_count": 27
        }
      ]
    },
    {
      "cell_type": "code",
      "source": [
        "a3[[\"price\"]].mean()"
      ],
      "metadata": {
        "colab": {
          "base_uri": "https://localhost:8080/"
        },
        "id": "WsF1re-EemVg",
        "outputId": "1cb7b4ac-7dda-4ab9-929a-1692ba7581e3"
      },
      "execution_count": 28,
      "outputs": [
        {
          "output_type": "execute_result",
          "data": {
            "text/plain": [
              "price    3804.102333\n",
              "dtype: float64"
            ]
          },
          "metadata": {},
          "execution_count": 28
        }
      ]
    },
    {
      "cell_type": "code",
      "source": [
        "a3[[\"price\"]].median()"
      ],
      "metadata": {
        "colab": {
          "base_uri": "https://localhost:8080/"
        },
        "id": "8U5cCUCverYX",
        "outputId": "e3198ace-ab92-419d-e97f-2490cc10c952"
      },
      "execution_count": 29,
      "outputs": [
        {
          "output_type": "execute_result",
          "data": {
            "text/plain": [
              "price    2385.5\n",
              "dtype: float64"
            ]
          },
          "metadata": {},
          "execution_count": 29
        }
      ]
    },
    {
      "cell_type": "code",
      "source": [
        "a3[[\"price\"]].std()"
      ],
      "metadata": {
        "colab": {
          "base_uri": "https://localhost:8080/"
        },
        "id": "jR84HXpDewr_",
        "outputId": "5cbc99d6-cf89-4cb1-c684-6249aaa5ca85"
      },
      "execution_count": 30,
      "outputs": [
        {
          "output_type": "execute_result",
          "data": {
            "text/plain": [
              "price    3860.31758\n",
              "dtype: float64"
            ]
          },
          "metadata": {},
          "execution_count": 30
        }
      ]
    },
    {
      "cell_type": "markdown",
      "source": [
        "Esta amostra aleatória tem estatísticas descritivas próximas da população"
      ],
      "metadata": {
        "id": "UT1zO2_8e62z"
      }
    }
  ]
}